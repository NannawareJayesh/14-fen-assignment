{
 "cells": [
  {
   "cell_type": "markdown",
   "id": "8892e38d-6572-47d2-82e8-29e993338ada",
   "metadata": {},
   "source": [
    "## 14 feb assignment"
   ]
  },
  {
   "cell_type": "markdown",
   "id": "4fd7368a-85b5-4bf9-ace3-ea35c8e9c7f7",
   "metadata": {},
   "source": [
    "Q.1 What is multithreading in python? Why is it used? Name the module used to handle threads in python"
   ]
  },
  {
   "cell_type": "markdown",
   "id": "515be9f1-62be-450f-9643-98bf6fce4f5f",
   "metadata": {},
   "source": [
    "Multithreading in Python is a way to allow concurrent execution of two or more parts of a program. Multithreading allows the execution of multiple threads simultaneously, which can help improve the overall performance of the program by making it more efficient.\n",
    "\n",
    "In Python, multithreading is used to execute different tasks at the same time, which can help save time and resources. For example, you can use multithreading to perform a time-consuming task, such as file processing, while other parts of the program continue to execute without being blocked.\n",
    "\n",
    "The threading module is used to handle threads in Python. This module provides a simple way to create and manage threads in Python programs. The threading module defines a Thread class, which can be used to create and manage threads. With this module, you can create, start, and stop threads in Python programs."
   ]
  },
  {
   "cell_type": "markdown",
   "id": "e6af3ea7-c8b5-4d59-b04d-b0a343464bec",
   "metadata": {},
   "source": [
    "Q.2 Why threading module used? Write the use of the following functions\n",
    "1.activeCount()\n",
    "2.currentThread()\n",
    "3. enumerate()"
   ]
  },
  {
   "cell_type": "markdown",
   "id": "fabb0a62-0106-46a5-a4a3-cc237d31d012",
   "metadata": {},
   "source": [
    "The threading module is used to create and manage threads in Python programs. It allows you to run multiple threads concurrently within a single process, which can be useful for improving the performance of certain types of applications. Here are the use cases of the following functions in the threading module:\n",
    "\n",
    "    activeCount() function: This function is used to get the number of thread objects that are currently active. An active thread is a thread that has been started but has not yet completed its task or terminated. The activeCount() function returns an integer value that represents the number of active thread objects.\n",
    "\n",
    "    currentThread() function: This function is used to get a reference to the current thread object. The current thread object is the thread that is currently executing the Python code. The currentThread() function returns a reference to the current thread object, which can be used to perform various operations on the thread, such as getting its name, ID, and so on.\n",
    "\n",
    "    enumerate() function: This function is used to get a list of all the thread objects that are currently active. The enumerate() function returns a list of thread objects, which can be used to perform various operations on each thread, such as getting its name, ID, and so on. By default, the enumerate() function returns a list of active thread objects, but you can pass an argument to it to specify whether you want all thread objects or only daemon thread objects.\n",
    "\n"
   ]
  },
  {
   "cell_type": "markdown",
   "id": "3070a7ce-a58a-42b7-8967-13e6af5123e3",
   "metadata": {},
   "source": [
    "Q.3 Explain the following functions\n",
    " run()\n",
    " start()\n",
    " join()\n",
    " isAlive()"
   ]
  },
  {
   "cell_type": "markdown",
   "id": "57eb4da5-fbbe-4b44-aeef-6430b66c61f5",
   "metadata": {},
   "source": [
    "In the threading module, the following functions are used to create, start, and manage threads in a Python program:\n",
    "\n",
    "    run() function: This function is the entry point for the thread's activity. When a thread is started, it calls the run() method on the target function passed to the Thread constructor. The run() method contains the code that will be executed in the thread's separate execution context.\n",
    "\n",
    "    start() function: This function is used to start a new thread of execution. The start() method creates a new thread object, initializes it with the target function, and starts the thread's activity by invoking the run() method on the thread. Once the thread is started, it will run in parallel with the main thread until it completes its task or is terminated.\n",
    "\n",
    "    join() function: This function is used to wait for a thread to complete its execution. The join() method blocks the calling thread until the thread on which it is called completes its task or is terminated. This method can be used to synchronize the execution of multiple threads by waiting for one thread to complete its task before starting another.\n",
    "\n",
    "    isAlive() function: This function is used to check whether a thread is still alive or has completed its task. The isAlive() method returns a Boolean value that indicates whether the thread is currently executing its task. If the thread has completed its task or has been terminated, the isAlive() method will return False. This method can be used to check the status of a thread and take appropriate actions based on its current state.\n",
    "\n"
   ]
  },
  {
   "cell_type": "markdown",
   "id": "f5ce72a0-3558-412c-8e93-fa6e3f36834f",
   "metadata": {},
   "source": [
    "Q.4 Write a python program to create two threads. Thread one must print the list of squares and thread\n",
    "two must print the list of cubes"
   ]
  },
  {
   "cell_type": "code",
   "execution_count": 1,
   "id": "fa7cb626-f2dc-48dd-af43-4e19b8c8f8d6",
   "metadata": {},
   "outputs": [
    {
     "name": "stdout",
     "output_type": "stream",
     "text": [
      "Square of 1 is 1\n",
      "Square of 2 is 4\n",
      "Square of 3 is 9\n",
      "Square of 4 is 16\n",
      "Square of 5 is 25\n",
      "Square of 6 is 36\n",
      "Square of 7 is 49\n",
      "Square of 8 is 64\n",
      "Square of 9 is 81\n",
      "Square of 10 is 100\n",
      "Cube of 1 is 1\n",
      "Cube of 2 is 8\n",
      "Cube of 3 is 27\n",
      "Cube of 4 is 64\n",
      "Cube of 5 is 125\n",
      "Cube of 6 is 216\n",
      "Cube of 7 is 343\n",
      "Cube of 8 is 512\n",
      "Cube of 9 is 729\n",
      "Cube of 10 is 1000\n",
      "Both threads have completed their tasks.\n"
     ]
    }
   ],
   "source": [
    "import threading\n",
    "\n",
    "def print_squares():\n",
    "    for i in range(1, 11):\n",
    "        print(f\"Square of {i} is {i**2}\")\n",
    "\n",
    "def print_cubes():\n",
    "    for i in range(1, 11):\n",
    "        print(f\"Cube of {i} is {i**3}\")\n",
    "\n",
    "if __name__ == '__main__':\n",
    "    # Create thread objects\n",
    "    thread1 = threading.Thread(target=print_squares)\n",
    "    thread2 = threading.Thread(target=print_cubes)\n",
    "\n",
    "    # Start the threads\n",
    "    thread1.start()\n",
    "    thread2.start()\n",
    "\n",
    "    # Wait for the threads to complete\n",
    "    thread1.join()\n",
    "    thread2.join()\n",
    "\n",
    "    # Print a message indicating that the threads have completed\n",
    "    print(\"Both threads have completed their tasks.\")\n"
   ]
  },
  {
   "cell_type": "markdown",
   "id": "5bf4668f-caaa-4939-b7fa-ccf40331ede6",
   "metadata": {},
   "source": [
    "Q.5. State advantages and disadvantages of multithreading"
   ]
  },
  {
   "cell_type": "markdown",
   "id": "102d0ce5-45bf-4ec1-9d1a-33c2654bf2b7",
   "metadata": {},
   "source": [
    "Advantages:\n",
    "\n",
    "    Improved performance: Multithreading can significantly improve the performance of a program by allowing it to perform multiple tasks simultaneously. This can lead to faster execution times and better resource utilization.\n",
    "\n",
    "    Responsiveness: Multithreading can improve the responsiveness of an application by allowing it to continue processing user input while performing other tasks in the background.\n",
    "\n",
    "    Resource sharing: Multithreading can allow multiple threads to share resources, such as memory and file handles, which can reduce the overall resource usage of a program.\n",
    "\n",
    "    Simplified programming: Multithreading can simplify the programming of complex applications by allowing different parts of the application to run concurrently without interfering with each other.\n",
    "\n",
    "Disadvantages:\n",
    "\n",
    "    Complexity: Multithreading can introduce complexity into a program, making it harder to develop and maintain. Multithreaded code can be difficult to debug and can lead to hard-to-reproduce bugs.\n",
    "\n",
    "    Synchronization issues: Multithreading can introduce synchronization issues, such as race conditions and deadlocks, that can be hard to detect and fix.\n",
    "\n",
    "    Overhead: Multithreading can introduce overhead due to the additional context switching and synchronization required between threads. This can reduce performance if not managed properly.\n",
    "\n",
    "    Resource contention: Multithreading can introduce resource contention, where multiple threads compete for the same resources, such as memory and I/O bandwidth. This can lead to reduced performance and unpredictable behavior."
   ]
  },
  {
   "cell_type": "markdown",
   "id": "58ca858e-970f-43d9-8be2-1f71e7cb16ae",
   "metadata": {},
   "source": [
    "Q.6. Explain deadlocks and race conditions."
   ]
  },
  {
   "cell_type": "markdown",
   "id": "0fb2650b-083a-46cc-9bb0-a808022ff074",
   "metadata": {},
   "source": [
    "Deadlocks: A deadlock occurs when two or more threads are blocked waiting for each other to release resources that they need to continue their execution. This situation can arise when multiple threads try to acquire the same set of resources in different orders, resulting in a circular wait. Deadlocks can lead to a situation where the threads are blocked indefinitely, causing the program to hang or crash.\n",
    "\n",
    "Race conditions: A race condition occurs when the outcome of a program depends on the order in which multiple threads execute their operations. In other words, the program is said to be in a race to complete its tasks. Race conditions can lead to unpredictable behavior, data corruption, or even crashes."
   ]
  },
  {
   "cell_type": "code",
   "execution_count": null,
   "id": "18c10db0-f38a-4f19-a645-34809ebe16df",
   "metadata": {},
   "outputs": [],
   "source": []
  }
 ],
 "metadata": {
  "kernelspec": {
   "display_name": "Python 3 (ipykernel)",
   "language": "python",
   "name": "python3"
  },
  "language_info": {
   "codemirror_mode": {
    "name": "ipython",
    "version": 3
   },
   "file_extension": ".py",
   "mimetype": "text/x-python",
   "name": "python",
   "nbconvert_exporter": "python",
   "pygments_lexer": "ipython3",
   "version": "3.10.8"
  }
 },
 "nbformat": 4,
 "nbformat_minor": 5
}
